{
 "cells": [
  {
   "cell_type": "markdown",
   "metadata": {},
   "source": [
    "# NLP Stock Sentiment Analysis"
   ]
  },
  {
   "cell_type": "code",
   "execution_count": 3,
   "metadata": {},
   "outputs": [
    {
     "name": "stderr",
     "output_type": "stream",
     "text": [
      "[nltk_data] Downloading package vader_lexicon to\n",
      "[nltk_data]     /Users/kaustubhsingh/nltk_data...\n",
      "[nltk_data]   Package vader_lexicon is already up-to-date!\n"
     ]
    },
    {
     "data": {
      "text/plain": [
       "True"
      ]
     },
     "execution_count": 3,
     "metadata": {},
     "output_type": "execute_result"
    }
   ],
   "source": [
    "# Importing libraries\n",
    "import pandas as pd\n",
    "import numpy as np\n",
    "import re\n",
    "from sklearn.feature_extraction.text import CountVectorizer\n",
    "from scipy.sparse import csr_matrix\n",
    "from nltk.sentiment.vader import SentimentIntensityAnalyzer\n",
    "import nltk\n",
    "nltk.download('vader_lexicon')"
   ]
  },
  {
   "cell_type": "code",
   "execution_count": 4,
   "metadata": {},
   "outputs": [
    {
     "data": {
      "text/html": [
       "<div>\n",
       "<style scoped>\n",
       "    .dataframe tbody tr th:only-of-type {\n",
       "        vertical-align: middle;\n",
       "    }\n",
       "\n",
       "    .dataframe tbody tr th {\n",
       "        vertical-align: top;\n",
       "    }\n",
       "\n",
       "    .dataframe thead th {\n",
       "        text-align: right;\n",
       "    }\n",
       "</style>\n",
       "<table border=\"1\" class=\"dataframe\">\n",
       "  <thead>\n",
       "    <tr style=\"text-align: right;\">\n",
       "      <th></th>\n",
       "      <th>Day of Week</th>\n",
       "      <th>comments</th>\n",
       "    </tr>\n",
       "  </thead>\n",
       "  <tbody>\n",
       "    <tr>\n",
       "      <th>0</th>\n",
       "      <td>Monday</td>\n",
       "      <td>Hello, how are you?</td>\n",
       "    </tr>\n",
       "    <tr>\n",
       "      <th>1</th>\n",
       "      <td>Tuesday</td>\n",
       "      <td>Today is a good day!</td>\n",
       "    </tr>\n",
       "    <tr>\n",
       "      <th>2</th>\n",
       "      <td>Wednesday</td>\n",
       "      <td>It's my birthday so it's a really special day!</td>\n",
       "    </tr>\n",
       "    <tr>\n",
       "      <th>3</th>\n",
       "      <td>Thursday</td>\n",
       "      <td>Today is neither a good day or a bad day!</td>\n",
       "    </tr>\n",
       "    <tr>\n",
       "      <th>4</th>\n",
       "      <td>Friday</td>\n",
       "      <td>I'm having a bad day.</td>\n",
       "    </tr>\n",
       "    <tr>\n",
       "      <th>5</th>\n",
       "      <td>Saturday</td>\n",
       "      <td>There' s nothing special happening today.</td>\n",
       "    </tr>\n",
       "    <tr>\n",
       "      <th>6</th>\n",
       "      <td>Sunday</td>\n",
       "      <td>Today is a SUPER good day!</td>\n",
       "    </tr>\n",
       "  </tbody>\n",
       "</table>\n",
       "</div>"
      ],
      "text/plain": [
       "  Day of Week                                        comments\n",
       "0      Monday                             Hello, how are you?\n",
       "1     Tuesday                            Today is a good day!\n",
       "2   Wednesday  It's my birthday so it's a really special day!\n",
       "3    Thursday       Today is neither a good day or a bad day!\n",
       "4      Friday                           I'm having a bad day.\n",
       "5    Saturday       There' s nothing special happening today.\n",
       "6      Sunday                      Today is a SUPER good day!"
      ]
     },
     "execution_count": 4,
     "metadata": {},
     "output_type": "execute_result"
    }
   ],
   "source": [
    "# Data loading into dataframe\n",
    "df = pd.read_csv('DailyComments.csv')\n",
    "# Displaying dataframe\n",
    "df"
   ]
  },
  {
   "cell_type": "code",
   "execution_count": 5,
   "metadata": {},
   "outputs": [
    {
     "data": {
      "text/html": [
       "<div>\n",
       "<style scoped>\n",
       "    .dataframe tbody tr th:only-of-type {\n",
       "        vertical-align: middle;\n",
       "    }\n",
       "\n",
       "    .dataframe tbody tr th {\n",
       "        vertical-align: top;\n",
       "    }\n",
       "\n",
       "    .dataframe thead th {\n",
       "        text-align: right;\n",
       "    }\n",
       "</style>\n",
       "<table border=\"1\" class=\"dataframe\">\n",
       "  <thead>\n",
       "    <tr style=\"text-align: right;\">\n",
       "      <th></th>\n",
       "      <th>Day of Week</th>\n",
       "      <th>comments</th>\n",
       "      <th>cleaned_comments</th>\n",
       "    </tr>\n",
       "  </thead>\n",
       "  <tbody>\n",
       "    <tr>\n",
       "      <th>0</th>\n",
       "      <td>Monday</td>\n",
       "      <td>Hello, how are you?</td>\n",
       "      <td>hello, how are you?</td>\n",
       "    </tr>\n",
       "    <tr>\n",
       "      <th>1</th>\n",
       "      <td>Tuesday</td>\n",
       "      <td>Today is a good day!</td>\n",
       "      <td>today is a good day!</td>\n",
       "    </tr>\n",
       "    <tr>\n",
       "      <th>2</th>\n",
       "      <td>Wednesday</td>\n",
       "      <td>It's my birthday so it's a really special day!</td>\n",
       "      <td>it's my birthday so it's a really special day!</td>\n",
       "    </tr>\n",
       "    <tr>\n",
       "      <th>3</th>\n",
       "      <td>Thursday</td>\n",
       "      <td>Today is neither a good day or a bad day!</td>\n",
       "      <td>today is neither a good day or a bad day!</td>\n",
       "    </tr>\n",
       "    <tr>\n",
       "      <th>4</th>\n",
       "      <td>Friday</td>\n",
       "      <td>I'm having a bad day.</td>\n",
       "      <td>i'm having a bad day.</td>\n",
       "    </tr>\n",
       "    <tr>\n",
       "      <th>5</th>\n",
       "      <td>Saturday</td>\n",
       "      <td>There' s nothing special happening today.</td>\n",
       "      <td>there' s nothing special happening today.</td>\n",
       "    </tr>\n",
       "    <tr>\n",
       "      <th>6</th>\n",
       "      <td>Sunday</td>\n",
       "      <td>Today is a SUPER good day!</td>\n",
       "      <td>today is a super good day!</td>\n",
       "    </tr>\n",
       "  </tbody>\n",
       "</table>\n",
       "</div>"
      ],
      "text/plain": [
       "  Day of Week                                        comments  \\\n",
       "0      Monday                             Hello, how are you?   \n",
       "1     Tuesday                            Today is a good day!   \n",
       "2   Wednesday  It's my birthday so it's a really special day!   \n",
       "3    Thursday       Today is neither a good day or a bad day!   \n",
       "4      Friday                           I'm having a bad day.   \n",
       "5    Saturday       There' s nothing special happening today.   \n",
       "6      Sunday                      Today is a SUPER good day!   \n",
       "\n",
       "                                 cleaned_comments  \n",
       "0                             hello, how are you?  \n",
       "1                            today is a good day!  \n",
       "2  it's my birthday so it's a really special day!  \n",
       "3       today is neither a good day or a bad day!  \n",
       "4                           i'm having a bad day.  \n",
       "5       there' s nothing special happening today.  \n",
       "6                      today is a super good day!  "
      ]
     },
     "execution_count": 5,
     "metadata": {},
     "output_type": "execute_result"
    }
   ],
   "source": [
    "# Lower case\n",
    "df['cleaned_comments'] = df['comments'].str.lower()\n",
    "# Displaying dataframe\n",
    "df"
   ]
  },
  {
   "cell_type": "code",
   "execution_count": 6,
   "metadata": {},
   "outputs": [
    {
     "name": "stderr",
     "output_type": "stream",
     "text": [
      "<ipython-input-6-08d9b90b9a84>:2: FutureWarning: The default value of regex will change from True to False in a future version.\n",
      "  df['cleaned_comments'] = df['cleaned_comments'].str.replace('[^\\w\\s]','')\n"
     ]
    },
    {
     "data": {
      "text/html": [
       "<div>\n",
       "<style scoped>\n",
       "    .dataframe tbody tr th:only-of-type {\n",
       "        vertical-align: middle;\n",
       "    }\n",
       "\n",
       "    .dataframe tbody tr th {\n",
       "        vertical-align: top;\n",
       "    }\n",
       "\n",
       "    .dataframe thead th {\n",
       "        text-align: right;\n",
       "    }\n",
       "</style>\n",
       "<table border=\"1\" class=\"dataframe\">\n",
       "  <thead>\n",
       "    <tr style=\"text-align: right;\">\n",
       "      <th></th>\n",
       "      <th>Day of Week</th>\n",
       "      <th>comments</th>\n",
       "      <th>cleaned_comments</th>\n",
       "    </tr>\n",
       "  </thead>\n",
       "  <tbody>\n",
       "    <tr>\n",
       "      <th>0</th>\n",
       "      <td>Monday</td>\n",
       "      <td>Hello, how are you?</td>\n",
       "      <td>hello how are you</td>\n",
       "    </tr>\n",
       "    <tr>\n",
       "      <th>1</th>\n",
       "      <td>Tuesday</td>\n",
       "      <td>Today is a good day!</td>\n",
       "      <td>today is a good day</td>\n",
       "    </tr>\n",
       "    <tr>\n",
       "      <th>2</th>\n",
       "      <td>Wednesday</td>\n",
       "      <td>It's my birthday so it's a really special day!</td>\n",
       "      <td>its my birthday so its a really special day</td>\n",
       "    </tr>\n",
       "    <tr>\n",
       "      <th>3</th>\n",
       "      <td>Thursday</td>\n",
       "      <td>Today is neither a good day or a bad day!</td>\n",
       "      <td>today is neither a good day or a bad day</td>\n",
       "    </tr>\n",
       "    <tr>\n",
       "      <th>4</th>\n",
       "      <td>Friday</td>\n",
       "      <td>I'm having a bad day.</td>\n",
       "      <td>im having a bad day</td>\n",
       "    </tr>\n",
       "    <tr>\n",
       "      <th>5</th>\n",
       "      <td>Saturday</td>\n",
       "      <td>There' s nothing special happening today.</td>\n",
       "      <td>there s nothing special happening today</td>\n",
       "    </tr>\n",
       "    <tr>\n",
       "      <th>6</th>\n",
       "      <td>Sunday</td>\n",
       "      <td>Today is a SUPER good day!</td>\n",
       "      <td>today is a super good day</td>\n",
       "    </tr>\n",
       "  </tbody>\n",
       "</table>\n",
       "</div>"
      ],
      "text/plain": [
       "  Day of Week                                        comments  \\\n",
       "0      Monday                             Hello, how are you?   \n",
       "1     Tuesday                            Today is a good day!   \n",
       "2   Wednesday  It's my birthday so it's a really special day!   \n",
       "3    Thursday       Today is neither a good day or a bad day!   \n",
       "4      Friday                           I'm having a bad day.   \n",
       "5    Saturday       There' s nothing special happening today.   \n",
       "6      Sunday                      Today is a SUPER good day!   \n",
       "\n",
       "                              cleaned_comments  \n",
       "0                            hello how are you  \n",
       "1                          today is a good day  \n",
       "2  its my birthday so its a really special day  \n",
       "3     today is neither a good day or a bad day  \n",
       "4                          im having a bad day  \n",
       "5      there s nothing special happening today  \n",
       "6                    today is a super good day  "
      ]
     },
     "execution_count": 6,
     "metadata": {},
     "output_type": "execute_result"
    }
   ],
   "source": [
    "# Removing punctuation\n",
    "df['cleaned_comments'] = df['cleaned_comments'].str.replace('[^\\w\\s]','')\n",
    "# Displaying dataframe\n",
    "df"
   ]
  },
  {
   "cell_type": "markdown",
   "metadata": {},
   "source": [
    "VADER ( Valence Aware Dictionary for Sentiment Reasoning) is a model used for text sentiment analysis that is sensitive to both polarity (positive/negative) and intensity (strength) of emotion. It is available in the NLTK package and can be applied directly to unlabeled text data."
   ]
  },
  {
   "cell_type": "markdown",
   "metadata": {},
   "source": [
    "# Sentiment Analysis using Vader "
   ]
  },
  {
   "cell_type": "code",
   "execution_count": 7,
   "metadata": {},
   "outputs": [],
   "source": [
    "# Creating an object or instance\n",
    "sent = SentimentIntensityAnalyzer()"
   ]
  },
  {
   "cell_type": "code",
   "execution_count": 8,
   "metadata": {},
   "outputs": [],
   "source": [
    "# Running polarity score on our first record of cleaned comments\n",
    "first_rec = sent.polarity_scores(df.iloc[0][2])"
   ]
  },
  {
   "cell_type": "code",
   "execution_count": 9,
   "metadata": {},
   "outputs": [
    {
     "data": {
      "text/plain": [
       "dict"
      ]
     },
     "execution_count": 9,
     "metadata": {},
     "output_type": "execute_result"
    }
   ],
   "source": [
    "# Checking the type\n",
    "type(first_rec)"
   ]
  },
  {
   "cell_type": "code",
   "execution_count": 10,
   "metadata": {},
   "outputs": [
    {
     "data": {
      "text/plain": [
       "0.0"
      ]
     },
     "execution_count": 10,
     "metadata": {},
     "output_type": "execute_result"
    }
   ],
   "source": [
    "# Compound score\n",
    "first_rec['compound']"
   ]
  },
  {
   "cell_type": "code",
   "execution_count": 11,
   "metadata": {},
   "outputs": [
    {
     "data": {
      "text/plain": [
       "0.0"
      ]
     },
     "execution_count": 11,
     "metadata": {},
     "output_type": "execute_result"
    }
   ],
   "source": [
    "# Positive score\n",
    "first_rec['pos']"
   ]
  },
  {
   "cell_type": "code",
   "execution_count": 12,
   "metadata": {},
   "outputs": [
    {
     "data": {
      "text/plain": [
       "0.0"
      ]
     },
     "execution_count": 12,
     "metadata": {},
     "output_type": "execute_result"
    }
   ],
   "source": [
    "# Negative score\n",
    "first_rec['neg']"
   ]
  },
  {
   "cell_type": "code",
   "execution_count": 13,
   "metadata": {},
   "outputs": [
    {
     "data": {
      "text/plain": [
       "1.0"
      ]
     },
     "execution_count": 13,
     "metadata": {},
     "output_type": "execute_result"
    }
   ],
   "source": [
    "# Neutral score\n",
    "first_rec['neu']"
   ]
  },
  {
   "cell_type": "markdown",
   "metadata": {},
   "source": [
    "Our first record of our cleaned comment is Neutral."
   ]
  },
  {
   "cell_type": "code",
   "execution_count": 14,
   "metadata": {},
   "outputs": [],
   "source": [
    "# Now checking polarity score on all the cleaned comments\n",
    "\n",
    "# Creating four empty list for compound, positive, negative and neutral scores\n",
    "score_com = []\n",
    "score_pos = []\n",
    "score_neg = []\n",
    "score_neu = []\n",
    "\n",
    "# For loop for all the records that is the reason df.shape[0]\n",
    "for i in range(0, df.shape[0]):\n",
    "    # [2] is for the 3rd column (cleaned_comments)\n",
    "    score = sent.polarity_scores(df.iloc[i][2])\n",
    "    # Assigning compound score to score1\n",
    "    score1 = score['compound']\n",
    "    # Adding to empty list that we created\n",
    "    score_com.append(score1)\n",
    "    # Below 2 lines to extract the positive sentiment\n",
    "    score2 = score['pos']\n",
    "    score_pos.append(score2)\n",
    "    # Below 2 lines to extract the negative sentiment\n",
    "    score3 = score['neg']\n",
    "    score_neg.append(score3)\n",
    "    # Below 2 lines to extract the neutral sentiment\n",
    "    score4 = score['neu']\n",
    "    score_neu.append(score4)"
   ]
  },
  {
   "cell_type": "code",
   "execution_count": 15,
   "metadata": {},
   "outputs": [],
   "source": [
    "# Adding the new columns to the data frame\n",
    "# Comp: Compound, Pos: Positive, Neg: Negative, Neu: Neutral\n",
    "df['Comp_Score'] = score_com\n",
    "df['Pos_Score'] = score_pos\n",
    "df['Neg_Score'] = score_neg\n",
    "df['Neu_Score'] = score_neu"
   ]
  },
  {
   "cell_type": "code",
   "execution_count": 16,
   "metadata": {},
   "outputs": [
    {
     "data": {
      "text/html": [
       "<div>\n",
       "<style scoped>\n",
       "    .dataframe tbody tr th:only-of-type {\n",
       "        vertical-align: middle;\n",
       "    }\n",
       "\n",
       "    .dataframe tbody tr th {\n",
       "        vertical-align: top;\n",
       "    }\n",
       "\n",
       "    .dataframe thead th {\n",
       "        text-align: right;\n",
       "    }\n",
       "</style>\n",
       "<table border=\"1\" class=\"dataframe\">\n",
       "  <thead>\n",
       "    <tr style=\"text-align: right;\">\n",
       "      <th></th>\n",
       "      <th>Day of Week</th>\n",
       "      <th>comments</th>\n",
       "      <th>cleaned_comments</th>\n",
       "      <th>Comp_Score</th>\n",
       "      <th>Pos_Score</th>\n",
       "      <th>Neg_Score</th>\n",
       "      <th>Neu_Score</th>\n",
       "    </tr>\n",
       "  </thead>\n",
       "  <tbody>\n",
       "    <tr>\n",
       "      <th>0</th>\n",
       "      <td>Monday</td>\n",
       "      <td>Hello, how are you?</td>\n",
       "      <td>hello how are you</td>\n",
       "      <td>0.0000</td>\n",
       "      <td>0.000</td>\n",
       "      <td>0.000</td>\n",
       "      <td>1.000</td>\n",
       "    </tr>\n",
       "    <tr>\n",
       "      <th>1</th>\n",
       "      <td>Tuesday</td>\n",
       "      <td>Today is a good day!</td>\n",
       "      <td>today is a good day</td>\n",
       "      <td>0.4404</td>\n",
       "      <td>0.492</td>\n",
       "      <td>0.000</td>\n",
       "      <td>0.508</td>\n",
       "    </tr>\n",
       "    <tr>\n",
       "      <th>2</th>\n",
       "      <td>Wednesday</td>\n",
       "      <td>It's my birthday so it's a really special day!</td>\n",
       "      <td>its my birthday so its a really special day</td>\n",
       "      <td>0.5034</td>\n",
       "      <td>0.318</td>\n",
       "      <td>0.000</td>\n",
       "      <td>0.682</td>\n",
       "    </tr>\n",
       "    <tr>\n",
       "      <th>3</th>\n",
       "      <td>Thursday</td>\n",
       "      <td>Today is neither a good day or a bad day!</td>\n",
       "      <td>today is neither a good day or a bad day</td>\n",
       "      <td>-0.7101</td>\n",
       "      <td>0.000</td>\n",
       "      <td>0.496</td>\n",
       "      <td>0.504</td>\n",
       "    </tr>\n",
       "    <tr>\n",
       "      <th>4</th>\n",
       "      <td>Friday</td>\n",
       "      <td>I'm having a bad day.</td>\n",
       "      <td>im having a bad day</td>\n",
       "      <td>-0.5423</td>\n",
       "      <td>0.000</td>\n",
       "      <td>0.538</td>\n",
       "      <td>0.462</td>\n",
       "    </tr>\n",
       "    <tr>\n",
       "      <th>5</th>\n",
       "      <td>Saturday</td>\n",
       "      <td>There' s nothing special happening today.</td>\n",
       "      <td>there s nothing special happening today</td>\n",
       "      <td>-0.3089</td>\n",
       "      <td>0.000</td>\n",
       "      <td>0.361</td>\n",
       "      <td>0.639</td>\n",
       "    </tr>\n",
       "    <tr>\n",
       "      <th>6</th>\n",
       "      <td>Sunday</td>\n",
       "      <td>Today is a SUPER good day!</td>\n",
       "      <td>today is a super good day</td>\n",
       "      <td>0.7783</td>\n",
       "      <td>0.694</td>\n",
       "      <td>0.000</td>\n",
       "      <td>0.306</td>\n",
       "    </tr>\n",
       "  </tbody>\n",
       "</table>\n",
       "</div>"
      ],
      "text/plain": [
       "  Day of Week                                        comments  \\\n",
       "0      Monday                             Hello, how are you?   \n",
       "1     Tuesday                            Today is a good day!   \n",
       "2   Wednesday  It's my birthday so it's a really special day!   \n",
       "3    Thursday       Today is neither a good day or a bad day!   \n",
       "4      Friday                           I'm having a bad day.   \n",
       "5    Saturday       There' s nothing special happening today.   \n",
       "6      Sunday                      Today is a SUPER good day!   \n",
       "\n",
       "                              cleaned_comments  Comp_Score  Pos_Score  \\\n",
       "0                            hello how are you      0.0000      0.000   \n",
       "1                          today is a good day      0.4404      0.492   \n",
       "2  its my birthday so its a really special day      0.5034      0.318   \n",
       "3     today is neither a good day or a bad day     -0.7101      0.000   \n",
       "4                          im having a bad day     -0.5423      0.000   \n",
       "5      there s nothing special happening today     -0.3089      0.000   \n",
       "6                    today is a super good day      0.7783      0.694   \n",
       "\n",
       "   Neg_Score  Neu_Score  \n",
       "0      0.000      1.000  \n",
       "1      0.000      0.508  \n",
       "2      0.000      0.682  \n",
       "3      0.496      0.504  \n",
       "4      0.538      0.462  \n",
       "5      0.361      0.639  \n",
       "6      0.000      0.306  "
      ]
     },
     "execution_count": 16,
     "metadata": {},
     "output_type": "execute_result"
    }
   ],
   "source": [
    "# Displaying data frame with score\n",
    "df"
   ]
  },
  {
   "cell_type": "code",
   "execution_count": 17,
   "metadata": {},
   "outputs": [
    {
     "data": {
      "text/plain": [
       "0.0"
      ]
     },
     "execution_count": 17,
     "metadata": {},
     "output_type": "execute_result"
    }
   ],
   "source": [
    "# Median of overall Score\n",
    "df['Comp_Score'].median()"
   ]
  },
  {
   "cell_type": "code",
   "execution_count": 18,
   "metadata": {},
   "outputs": [
    {
     "data": {
      "text/plain": [
       "0.02297142857142858"
      ]
     },
     "execution_count": 18,
     "metadata": {},
     "output_type": "execute_result"
    }
   ],
   "source": [
    "# Mean of overall Score\n",
    "df['Comp_Score'].mean()"
   ]
  },
  {
   "cell_type": "markdown",
   "metadata": {},
   "source": [
    "Since median is zero and mean is close to zero, we can say that overall comments is neutral."
   ]
  },
  {
   "cell_type": "markdown",
   "metadata": {},
   "source": [
    "# Stock Sentiment"
   ]
  },
  {
   "cell_type": "markdown",
   "metadata": {},
   "source": [
    "Finviz.com has been used for sentiment analysis of stock from financial news. Finviz has headlines of every relevant ticker that we can search at finviz.com. "
   ]
  },
  {
   "cell_type": "code",
   "execution_count": 19,
   "metadata": {},
   "outputs": [],
   "source": [
    "# importing libraries\n",
    "from urllib.request import urlopen, Request\n",
    "from bs4 import BeautifulSoup"
   ]
  },
  {
   "cell_type": "code",
   "execution_count": 52,
   "metadata": {},
   "outputs": [],
   "source": [
    "# finviz url\n",
    "url = 'https://finviz.com/quote.ashx?t=NKLA'\n",
    "# Requesting url\n",
    "req = Request(url=url, headers={'user-agent':'my-app'})\n",
    "response = urlopen(req)\n",
    "# Using BeautifulSoup parsing html code\n",
    "html = BeautifulSoup(response, 'html')\n",
    "# Parsing the table by ID and adding to the dictionary\n",
    "news_table = html.find(id='news-table')\n",
    "# Finding all the table rows\n",
    "ocgn_rows = news_table.findAll('tr')\n",
    "\n",
    "# Empty list\n",
    "parsed_data = []\n",
    "\n",
    "# Getting text from each rows\n",
    "for idx, row in enumerate(ocgn_rows):\n",
    "    title = row.a.text\n",
    "    # Adding title into parsed_data list\n",
    "    parsed_data.append(title)\n",
    "    "
   ]
  },
  {
   "cell_type": "code",
   "execution_count": 53,
   "metadata": {},
   "outputs": [
    {
     "data": {
      "text/html": [
       "<div>\n",
       "<style scoped>\n",
       "    .dataframe tbody tr th:only-of-type {\n",
       "        vertical-align: middle;\n",
       "    }\n",
       "\n",
       "    .dataframe tbody tr th {\n",
       "        vertical-align: top;\n",
       "    }\n",
       "\n",
       "    .dataframe thead th {\n",
       "        text-align: right;\n",
       "    }\n",
       "</style>\n",
       "<table border=\"1\" class=\"dataframe\">\n",
       "  <thead>\n",
       "    <tr style=\"text-align: right;\">\n",
       "      <th></th>\n",
       "      <th>Title</th>\n",
       "    </tr>\n",
       "  </thead>\n",
       "  <tbody>\n",
       "    <tr>\n",
       "      <th>0</th>\n",
       "      <td>Is Nikola A Buy Or A Sell Now? Here's What Fun...</td>\n",
       "    </tr>\n",
       "    <tr>\n",
       "      <th>1</th>\n",
       "      <td>Heniff Transportation Signs LOI with the Inten...</td>\n",
       "    </tr>\n",
       "    <tr>\n",
       "      <th>2</th>\n",
       "      <td>Implied Volatility Surging for Nikola (NKLA) S...</td>\n",
       "    </tr>\n",
       "    <tr>\n",
       "      <th>3</th>\n",
       "      <td>Nikola (NKLA) to Pay $125M SEC Penalty Fee Ove...</td>\n",
       "    </tr>\n",
       "    <tr>\n",
       "      <th>4</th>\n",
       "      <td>Did an SEC Investigation Put This Hot EV Stock...</td>\n",
       "    </tr>\n",
       "    <tr>\n",
       "      <th>...</th>\n",
       "      <td>...</td>\n",
       "    </tr>\n",
       "    <tr>\n",
       "      <th>95</th>\n",
       "      <td>Nikola stock jumps after narrower-than-expecte...</td>\n",
       "    </tr>\n",
       "    <tr>\n",
       "      <th>96</th>\n",
       "      <td>UPDATE 2-Nikola to pay $125 mln penalty in SEC...</td>\n",
       "    </tr>\n",
       "    <tr>\n",
       "      <th>97</th>\n",
       "      <td>Nikola to pay $125 million penalty in SEC sett...</td>\n",
       "    </tr>\n",
       "    <tr>\n",
       "      <th>98</th>\n",
       "      <td>Nikola reserves $125 mln to fund potential set...</td>\n",
       "    </tr>\n",
       "    <tr>\n",
       "      <th>99</th>\n",
       "      <td>Nikola Corporation Reports Third Quarter 2021 ...</td>\n",
       "    </tr>\n",
       "  </tbody>\n",
       "</table>\n",
       "<p>100 rows × 1 columns</p>\n",
       "</div>"
      ],
      "text/plain": [
       "                                                Title\n",
       "0   Is Nikola A Buy Or A Sell Now? Here's What Fun...\n",
       "1   Heniff Transportation Signs LOI with the Inten...\n",
       "2   Implied Volatility Surging for Nikola (NKLA) S...\n",
       "3   Nikola (NKLA) to Pay $125M SEC Penalty Fee Ove...\n",
       "4   Did an SEC Investigation Put This Hot EV Stock...\n",
       "..                                                ...\n",
       "95  Nikola stock jumps after narrower-than-expecte...\n",
       "96  UPDATE 2-Nikola to pay $125 mln penalty in SEC...\n",
       "97  Nikola to pay $125 million penalty in SEC sett...\n",
       "98  Nikola reserves $125 mln to fund potential set...\n",
       "99  Nikola Corporation Reports Third Quarter 2021 ...\n",
       "\n",
       "[100 rows x 1 columns]"
      ]
     },
     "execution_count": 53,
     "metadata": {},
     "output_type": "execute_result"
    }
   ],
   "source": [
    "# Creating data frame using parsed_data\n",
    "df1 = pd.DataFrame(parsed_data, columns=['Title'])\n",
    "# Displaying data frame\n",
    "df1"
   ]
  },
  {
   "cell_type": "code",
   "execution_count": 54,
   "metadata": {},
   "outputs": [],
   "source": [
    "# Creating an object or instance\n",
    "sia = SentimentIntensityAnalyzer()"
   ]
  },
  {
   "cell_type": "code",
   "execution_count": 55,
   "metadata": {},
   "outputs": [],
   "source": [
    "# Checking polarity score on all text\n",
    "\n",
    "# Creating four empty list for compound, positive, negative and neutral scores\n",
    "score_com = []\n",
    "score_pos = []\n",
    "score_neg = []\n",
    "score_neu = []\n",
    "\n",
    "# For loop for all the records that is the reason df.shape[0]\n",
    "for i in range(0, df1.shape[0]):\n",
    "    # [0] is for the first column (title)\n",
    "    score = sia.polarity_scores(df1.iloc[i][0])\n",
    "    # Assigning compound score to score1\n",
    "    score1 = score['compound']\n",
    "    # Adding to empty list that we created\n",
    "    score_com.append(score1)\n",
    "    # Below 2 lines to extract the positive sentiment\n",
    "    score2 = score['pos']\n",
    "    score_pos.append(score2)\n",
    "    # Below 2 lines to extract the negative sentiment\n",
    "    score3 = score['neg']\n",
    "    score_neg.append(score3)\n",
    "    # Below 2 lines to extract the neutral sentiment\n",
    "    score4 = score['neu']\n",
    "    score_neu.append(score4)"
   ]
  },
  {
   "cell_type": "code",
   "execution_count": 56,
   "metadata": {},
   "outputs": [],
   "source": [
    "# Adding the new columns to the data frame\n",
    "# Comp: Compound, Pos: Positive, Neg: Negative, Neu: Neutral\n",
    "df1['Comp_Score'] = score_com\n",
    "df1['Pos_Score'] = score_pos\n",
    "df1['Neg_Score'] = score_neg\n",
    "df1['Neu_Score'] = score_neu"
   ]
  },
  {
   "cell_type": "code",
   "execution_count": 57,
   "metadata": {},
   "outputs": [
    {
     "data": {
      "text/html": [
       "<div>\n",
       "<style scoped>\n",
       "    .dataframe tbody tr th:only-of-type {\n",
       "        vertical-align: middle;\n",
       "    }\n",
       "\n",
       "    .dataframe tbody tr th {\n",
       "        vertical-align: top;\n",
       "    }\n",
       "\n",
       "    .dataframe thead th {\n",
       "        text-align: right;\n",
       "    }\n",
       "</style>\n",
       "<table border=\"1\" class=\"dataframe\">\n",
       "  <thead>\n",
       "    <tr style=\"text-align: right;\">\n",
       "      <th></th>\n",
       "      <th>Title</th>\n",
       "      <th>Comp_Score</th>\n",
       "      <th>Pos_Score</th>\n",
       "      <th>Neg_Score</th>\n",
       "      <th>Neu_Score</th>\n",
       "    </tr>\n",
       "  </thead>\n",
       "  <tbody>\n",
       "    <tr>\n",
       "      <th>0</th>\n",
       "      <td>Is Nikola A Buy Or A Sell Now? Here's What Fun...</td>\n",
       "      <td>0.0000</td>\n",
       "      <td>0.0</td>\n",
       "      <td>0.000</td>\n",
       "      <td>1.000</td>\n",
       "    </tr>\n",
       "    <tr>\n",
       "      <th>1</th>\n",
       "      <td>Heniff Transportation Signs LOI with the Inten...</td>\n",
       "      <td>0.0000</td>\n",
       "      <td>0.0</td>\n",
       "      <td>0.000</td>\n",
       "      <td>1.000</td>\n",
       "    </tr>\n",
       "    <tr>\n",
       "      <th>2</th>\n",
       "      <td>Implied Volatility Surging for Nikola (NKLA) S...</td>\n",
       "      <td>0.0000</td>\n",
       "      <td>0.0</td>\n",
       "      <td>0.000</td>\n",
       "      <td>1.000</td>\n",
       "    </tr>\n",
       "    <tr>\n",
       "      <th>3</th>\n",
       "      <td>Nikola (NKLA) to Pay $125M SEC Penalty Fee Ove...</td>\n",
       "      <td>-0.5267</td>\n",
       "      <td>0.0</td>\n",
       "      <td>0.328</td>\n",
       "      <td>0.672</td>\n",
       "    </tr>\n",
       "    <tr>\n",
       "      <th>4</th>\n",
       "      <td>Did an SEC Investigation Put This Hot EV Stock...</td>\n",
       "      <td>0.0000</td>\n",
       "      <td>0.0</td>\n",
       "      <td>0.000</td>\n",
       "      <td>1.000</td>\n",
       "    </tr>\n",
       "    <tr>\n",
       "      <th>...</th>\n",
       "      <td>...</td>\n",
       "      <td>...</td>\n",
       "      <td>...</td>\n",
       "      <td>...</td>\n",
       "      <td>...</td>\n",
       "    </tr>\n",
       "    <tr>\n",
       "      <th>95</th>\n",
       "      <td>Nikola stock jumps after narrower-than-expecte...</td>\n",
       "      <td>-0.6486</td>\n",
       "      <td>0.0</td>\n",
       "      <td>0.325</td>\n",
       "      <td>0.675</td>\n",
       "    </tr>\n",
       "    <tr>\n",
       "      <th>96</th>\n",
       "      <td>UPDATE 2-Nikola to pay $125 mln penalty in SEC...</td>\n",
       "      <td>-0.5267</td>\n",
       "      <td>0.0</td>\n",
       "      <td>0.355</td>\n",
       "      <td>0.645</td>\n",
       "    </tr>\n",
       "    <tr>\n",
       "      <th>97</th>\n",
       "      <td>Nikola to pay $125 million penalty in SEC sett...</td>\n",
       "      <td>-0.5267</td>\n",
       "      <td>0.0</td>\n",
       "      <td>0.386</td>\n",
       "      <td>0.614</td>\n",
       "    </tr>\n",
       "    <tr>\n",
       "      <th>98</th>\n",
       "      <td>Nikola reserves $125 mln to fund potential set...</td>\n",
       "      <td>0.0000</td>\n",
       "      <td>0.0</td>\n",
       "      <td>0.000</td>\n",
       "      <td>1.000</td>\n",
       "    </tr>\n",
       "    <tr>\n",
       "      <th>99</th>\n",
       "      <td>Nikola Corporation Reports Third Quarter 2021 ...</td>\n",
       "      <td>0.0000</td>\n",
       "      <td>0.0</td>\n",
       "      <td>0.000</td>\n",
       "      <td>1.000</td>\n",
       "    </tr>\n",
       "  </tbody>\n",
       "</table>\n",
       "<p>100 rows × 5 columns</p>\n",
       "</div>"
      ],
      "text/plain": [
       "                                                Title  Comp_Score  Pos_Score  \\\n",
       "0   Is Nikola A Buy Or A Sell Now? Here's What Fun...      0.0000        0.0   \n",
       "1   Heniff Transportation Signs LOI with the Inten...      0.0000        0.0   \n",
       "2   Implied Volatility Surging for Nikola (NKLA) S...      0.0000        0.0   \n",
       "3   Nikola (NKLA) to Pay $125M SEC Penalty Fee Ove...     -0.5267        0.0   \n",
       "4   Did an SEC Investigation Put This Hot EV Stock...      0.0000        0.0   \n",
       "..                                                ...         ...        ...   \n",
       "95  Nikola stock jumps after narrower-than-expecte...     -0.6486        0.0   \n",
       "96  UPDATE 2-Nikola to pay $125 mln penalty in SEC...     -0.5267        0.0   \n",
       "97  Nikola to pay $125 million penalty in SEC sett...     -0.5267        0.0   \n",
       "98  Nikola reserves $125 mln to fund potential set...      0.0000        0.0   \n",
       "99  Nikola Corporation Reports Third Quarter 2021 ...      0.0000        0.0   \n",
       "\n",
       "    Neg_Score  Neu_Score  \n",
       "0       0.000      1.000  \n",
       "1       0.000      1.000  \n",
       "2       0.000      1.000  \n",
       "3       0.328      0.672  \n",
       "4       0.000      1.000  \n",
       "..        ...        ...  \n",
       "95      0.325      0.675  \n",
       "96      0.355      0.645  \n",
       "97      0.386      0.614  \n",
       "98      0.000      1.000  \n",
       "99      0.000      1.000  \n",
       "\n",
       "[100 rows x 5 columns]"
      ]
     },
     "execution_count": 57,
     "metadata": {},
     "output_type": "execute_result"
    }
   ],
   "source": [
    "# Displaying data frame with score\n",
    "df1"
   ]
  },
  {
   "cell_type": "code",
   "execution_count": 58,
   "metadata": {},
   "outputs": [
    {
     "data": {
      "text/plain": [
       "0.0"
      ]
     },
     "execution_count": 58,
     "metadata": {},
     "output_type": "execute_result"
    }
   ],
   "source": [
    "# Median of overall Score\n",
    "df1['Comp_Score'].median()"
   ]
  },
  {
   "cell_type": "code",
   "execution_count": 59,
   "metadata": {},
   "outputs": [
    {
     "data": {
      "text/plain": [
       "-0.026978999999999996"
      ]
     },
     "execution_count": 59,
     "metadata": {},
     "output_type": "execute_result"
    }
   ],
   "source": [
    "# Mean of overall Score\n",
    "df1['Comp_Score'].mean()"
   ]
  },
  {
   "cell_type": "markdown",
   "metadata": {},
   "source": [
    "The news for NKLA ticker is somewhat negative but close to neutral. We can expect some bad news based on our sentiment analysis. "
   ]
  },
  {
   "cell_type": "code",
   "execution_count": null,
   "metadata": {},
   "outputs": [],
   "source": []
  }
 ],
 "metadata": {
  "kernelspec": {
   "display_name": "Python 3",
   "language": "python",
   "name": "python3"
  },
  "language_info": {
   "codemirror_mode": {
    "name": "ipython",
    "version": 3
   },
   "file_extension": ".py",
   "mimetype": "text/x-python",
   "name": "python",
   "nbconvert_exporter": "python",
   "pygments_lexer": "ipython3",
   "version": "3.6.13"
  }
 },
 "nbformat": 4,
 "nbformat_minor": 4
}
